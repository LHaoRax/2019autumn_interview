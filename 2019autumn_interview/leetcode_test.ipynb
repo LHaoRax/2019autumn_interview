{
 "cells": [
  {
   "cell_type": "code",
   "execution_count": 11,
   "metadata": {},
   "outputs": [
    {
     "name": "stdout",
     "output_type": "stream",
     "text": [
      "False\n"
     ]
    }
   ],
   "source": [
    "def isValid(s) -> bool:\n",
    "    dictionary = {'(': 1, '{': 2, '[': 3, ')': -1, '}': -2, ']': -3}\n",
    "    ls = []\n",
    "    if s == \"\" or dictionary[s[0]] < 0:\n",
    "        return False\n",
    "    for str in s:\n",
    "        str_num = dictionary[str]\n",
    "        if str_num > 0:\n",
    "            ls.append(str_num)\n",
    "        else:\n",
    "            if str_num == -ls[-1]:\n",
    "                ls = ls[:-1]\n",
    "            else:\n",
    "                return False\n",
    "    if len(ls) == 0:\n",
    "        return True\n",
    "s = \"]\"\n",
    "value = isValid(s)\n",
    "print(value)"
   ]
  },
  {
   "cell_type": "code",
   "execution_count": 19,
   "metadata": {},
   "outputs": [
    {
     "name": "stdout",
     "output_type": "stream",
     "text": [
      "2\n"
     ]
    }
   ],
   "source": [
    "def removeDuplicates(nums) -> int:\n",
    "    i, j = 0, 1\n",
    "    flag = 0\n",
    "    while j < len(nums):\n",
    "        if nums[i] != nums[j]:\n",
    "            nums[flag] = nums[j]\n",
    "            flag += 1\n",
    "        i += 1\n",
    "        j += 1\n",
    "    return flag + 1\n",
    "nums = [1,1,2]\n",
    "print(removeDuplicates(nums))"
   ]
  },
  {
   "cell_type": "code",
   "execution_count": 23,
   "metadata": {},
   "outputs": [
    {
     "ename": "AttributeError",
     "evalue": "module 'os' has no attribute 'listfile'",
     "output_type": "error",
     "traceback": [
      "\u001b[0;31m---------------------------------------------------------------------------\u001b[0m",
      "\u001b[0;31mAttributeError\u001b[0m                            Traceback (most recent call last)",
      "\u001b[0;32m<ipython-input-23-afdcdc309c27>\u001b[0m in \u001b[0;36m<module>\u001b[0;34m\u001b[0m\n\u001b[1;32m      1\u001b[0m \u001b[0;32mimport\u001b[0m \u001b[0mos\u001b[0m\u001b[0;34m\u001b[0m\u001b[0m\n\u001b[0;32m----> 2\u001b[0;31m \u001b[0;34m[\u001b[0m\u001b[0mx\u001b[0m \u001b[0;32mfor\u001b[0m \u001b[0mx\u001b[0m \u001b[0;32min\u001b[0m \u001b[0mos\u001b[0m\u001b[0;34m.\u001b[0m\u001b[0mlistfile\u001b[0m\u001b[0;34m(\u001b[0m\u001b[0;34m'.'\u001b[0m\u001b[0;34m)\u001b[0m \u001b[0;32mif\u001b[0m \u001b[0mos\u001b[0m\u001b[0;34m.\u001b[0m\u001b[0mpath\u001b[0m\u001b[0;34m.\u001b[0m\u001b[0misfile\u001b[0m\u001b[0;34m(\u001b[0m\u001b[0;34m'.'\u001b[0m\u001b[0;34m)\u001b[0m\u001b[0;34m]\u001b[0m\u001b[0;34m\u001b[0m\u001b[0m\n\u001b[0m",
      "\u001b[0;31mAttributeError\u001b[0m: module 'os' has no attribute 'listfile'"
     ]
    }
   ],
   "source": [
    "import os\n",
    "[x for x in os.listdir('.') if os.path.isfile('.')]"
   ]
  },
  {
   "cell_type": "code",
   "execution_count": null,
   "metadata": {},
   "outputs": [],
   "source": []
  }
 ],
 "metadata": {
  "kernelspec": {
   "display_name": "Python 3",
   "language": "python",
   "name": "python3"
  },
  "language_info": {
   "codemirror_mode": {
    "name": "ipython",
    "version": 3
   },
   "file_extension": ".py",
   "mimetype": "text/x-python",
   "name": "python",
   "nbconvert_exporter": "python",
   "pygments_lexer": "ipython3",
   "version": "3.6.4"
  }
 },
 "nbformat": 4,
 "nbformat_minor": 2
}
