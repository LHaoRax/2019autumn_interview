{
 "cells": [
  {
   "cell_type": "code",
   "execution_count": 6,
   "metadata": {},
   "outputs": [
    {
     "name": "stdout",
     "output_type": "stream",
     "text": [
      "False\n"
     ]
    }
   ],
   "source": [
    "def isValid(s) -> bool:\n",
    "    dict = {'(': 1, '{': 2, '[': 3, ')': -1, '}': -2, ']': -3}\n",
    "    list = []\n",
    "    if s == \"\" or dict[s[0]] < 0:\n",
    "        return False\n",
    "    for str in s:\n",
    "        str_num = dict[str]\n",
    "        if str_num > 0:\n",
    "            list.append(str_num)\n",
    "        else:\n",
    "            if str_num == -list[-1]:\n",
    "                list = list[:-1]\n",
    "            else:\n",
    "                return False\n",
    "    if len(list) == 0:\n",
    "        return True\n",
    "s = \"]\"\n",
    "value = isValid(s)\n",
    "print(value)"
   ]
  },
  {
   "cell_type": "code",
   "execution_count": null,
   "metadata": {},
   "outputs": [],
   "source": []
  }
 ],
 "metadata": {
  "kernelspec": {
   "display_name": "Python 3",
   "language": "python",
   "name": "python3"
  },
  "language_info": {
   "codemirror_mode": {
    "name": "ipython",
    "version": 3
   },
   "file_extension": ".py",
   "mimetype": "text/x-python",
   "name": "python",
   "nbconvert_exporter": "python",
   "pygments_lexer": "ipython3",
   "version": "3.6.4"
  }
 },
 "nbformat": 4,
 "nbformat_minor": 2
}
